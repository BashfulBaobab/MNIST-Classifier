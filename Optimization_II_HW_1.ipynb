{
 "cells": [
  {
   "cell_type": "markdown",
   "metadata": {
    "id": "uvpsXpHgot40"
   },
   "source": [
    "<h1><center> Optimization II - Homework Assignment 1 </center></h1>\n",
    "<center><i>Akshat Johari - aj32864</i><center>"
   ]
  },
  {
   "cell_type": "markdown",
   "metadata": {
    "id": "lRvErXIppV0m"
   },
   "source": [
    "## Importing required libraries"
   ]
  },
  {
   "cell_type": "code",
   "execution_count": 2,
   "metadata": {
    "id": "rCTIqEtHoU1j"
   },
   "outputs": [],
   "source": [
    "import tensorflow as tf\n",
    "import pandas as pd\n",
    "import numpy as np\n",
    "import matplotlib.pyplot as plt"
   ]
  },
  {
   "cell_type": "markdown",
   "metadata": {
    "id": "A-nkTH_0pbXy"
   },
   "source": [
    "## Importing MNIST dataset"
   ]
  },
  {
   "cell_type": "code",
   "execution_count": 58,
   "metadata": {
    "id": "wDz6s8YYolAJ"
   },
   "outputs": [],
   "source": [
    "mnist = tf.keras.datasets.mnist\n",
    "\n",
    "(x_train, y_train), (x_test, y_test) = mnist.load_data()\n",
    "x_train = x_train / 255.0\n",
    "x_test = x_test / 255.0\n",
    "\n",
    "ndata_train = x_train.shape[0]\n",
    "ndata_test = x_test.shape[0]\n",
    "\n",
    "x_test_copy = x_test.copy()"
   ]
  },
  {
   "cell_type": "markdown",
   "metadata": {
    "id": "EdNzddIgaTGv"
   },
   "source": [
    "## Visualizing an image in the data"
   ]
  },
  {
   "cell_type": "code",
   "execution_count": 6,
   "metadata": {
    "colab": {
     "base_uri": "https://localhost:8080/",
     "height": 283
    },
    "id": "uPS00iLhqIW2",
    "outputId": "336b1895-2335-4072-cff6-c9ad87d45b55"
   },
   "outputs": [
    {
     "data": {
      "text/plain": [
       "<matplotlib.image.AxesImage at 0x7f95226fef90>"
      ]
     },
     "execution_count": 6,
     "metadata": {},
     "output_type": "execute_result"
    },
    {
     "data": {
      "image/png": "[encoded data removed]",
      "text/plain": [
       "<Figure size 432x288 with 1 Axes>"
      ]
     },
     "metadata": {
      "needs_background": "light"
     },
     "output_type": "display_data"
    }
   ],
   "source": [
    "plt.imshow(x_train[100,:,:], cmap = 'gray')"
   ]
  },
  {
   "cell_type": "code",
   "execution_count": 59,
   "metadata": {
    "id": "TkZCTf60C5nN"
   },
   "outputs": [],
   "source": [
    "x_train = x_train.reshape((ndata_train, 28, 28, 1))\n",
    "x_test = x_test.reshape((ndata_test, 28, 28, 1))\n",
    "\n",
    "xshape = x_train.shape[1:4]"
   ]
  },
  {
   "cell_type": "markdown",
   "metadata": {
    "id": "qKWJ_0-rK8ZI"
   },
   "source": [
    "## Model 1\n",
    "* Flatten\n",
    "* Dense - 64 nodes, ReLU activation, ridge reg (lambda = 0.0004)\n",
    "* Dropout (0.5)\n",
    "* Dense (64 nodes)\n",
    "* Dense (10 nodes)\n",
    "* Optimizer - ADAM\n",
    "* Epochs - 12\n",
    "* Batch size - 200\n",
    "* validation size - 20%\n",
    "* Test set accuracy - 95.63%"
   ]
  },
  {
   "cell_type": "code",
   "execution_count": 8,
   "metadata": {
    "id": "IOwLawJlK-Jb"
   },
   "outputs": [],
   "source": [
    "NNmodel1 = tf.keras.models.Sequential([\n",
    "        tf.keras.layers.Flatten(input_shape=xshape),\n",
    "        tf.keras.layers.Dense(64,activation=tf.nn.relu,kernel_regularizer = tf.keras.regularizers.l2(0.0004)),\n",
    "        tf.keras.layers.Dropout(0.5),\n",
    "        tf.keras.layers.Dense(64,activation=tf.nn.sigmoid),\n",
    "        tf.keras.layers.Dense(10,activation=tf.nn.softmax)\n",
    "        ])"
   ]
  },
  {
   "cell_type": "code",
   "execution_count": 9,
   "metadata": {
    "colab": {
     "base_uri": "https://localhost:8080/"
    },
    "id": "4PYaVrXHMbnE",
    "outputId": "dcbf4d89-5e7d-4223-be43-9ed62cfd2fb9"
   },
   "outputs": [
    {
     "name": "stdout",
     "output_type": "stream",
     "text": [
      "Model: \"sequential\"\n",
      "_________________________________________________________________\n",
      " Layer (type)                Output Shape              Param #   \n",
      "=================================================================\n",
      " flatten (Flatten)           (None, 784)               0         \n",
      "                                                                 \n",
      " dense (Dense)               (None, 64)                50240     \n",
      "                                                                 \n",
      " dropout (Dropout)           (None, 64)                0         \n",
      "                                                                 \n",
      " dense_1 (Dense)             (None, 64)                4160      \n",
      "                                                                 \n",
      " dense_2 (Dense)             (None, 10)                650       \n",
      "                                                                 \n",
      "=================================================================\n",
      "Total params: 55,050\n",
      "Trainable params: 55,050\n",
      "Non-trainable params: 0\n",
      "_________________________________________________________________\n"
     ]
    }
   ],
   "source": [
    "NNmodel1.compile(optimizer='adam',\n",
    "              loss='sparse_categorical_crossentropy',\n",
    "              metrics=['accuracy'])\n",
    "\n",
    "NNmodel1.summary()"
   ]
  },
  {
   "cell_type": "code",
   "execution_count": 10,
   "metadata": {
    "colab": {
     "base_uri": "https://localhost:8080/"
    },
    "id": "9PToK5FUMd5Y",
    "outputId": "8dddbde8-7d2d-441e-c2d1-ce9e24ed0837"
   },
   "outputs": [
    {
     "name": "stdout",
     "output_type": "stream",
     "text": [
      "Epoch 1/12\n",
      "240/240 [==============================] - 4s 10ms/step - loss: 1.1236 - accuracy: 0.7065 - val_loss: 0.4390 - val_accuracy: 0.9018\n",
      "Epoch 2/12\n",
      "240/240 [==============================] - 2s 8ms/step - loss: 0.5178 - accuracy: 0.8706 - val_loss: 0.3176 - val_accuracy: 0.9247\n",
      "Epoch 3/12\n",
      "240/240 [==============================] - 2s 8ms/step - loss: 0.4327 - accuracy: 0.8915 - val_loss: 0.2794 - val_accuracy: 0.9345\n",
      "Epoch 4/12\n",
      "240/240 [==============================] - 1s 5ms/step - loss: 0.3909 - accuracy: 0.9024 - val_loss: 0.2583 - val_accuracy: 0.9393\n",
      "Epoch 5/12\n",
      "240/240 [==============================] - 1s 4ms/step - loss: 0.3677 - accuracy: 0.9067 - val_loss: 0.2372 - val_accuracy: 0.9463\n",
      "Epoch 6/12\n",
      "240/240 [==============================] - 1s 4ms/step - loss: 0.3432 - accuracy: 0.9136 - val_loss: 0.2252 - val_accuracy: 0.9495\n",
      "Epoch 7/12\n",
      "240/240 [==============================] - 1s 4ms/step - loss: 0.3297 - accuracy: 0.9168 - val_loss: 0.2153 - val_accuracy: 0.9521\n",
      "Epoch 8/12\n",
      "240/240 [==============================] - 1s 4ms/step - loss: 0.3204 - accuracy: 0.9174 - val_loss: 0.2080 - val_accuracy: 0.9533\n",
      "Epoch 9/12\n",
      "240/240 [==============================] - 1s 4ms/step - loss: 0.3056 - accuracy: 0.9219 - val_loss: 0.2040 - val_accuracy: 0.9548\n",
      "Epoch 10/12\n",
      "240/240 [==============================] - 1s 4ms/step - loss: 0.3020 - accuracy: 0.9224 - val_loss: 0.1958 - val_accuracy: 0.9574\n",
      "Epoch 11/12\n",
      "240/240 [==============================] - 1s 4ms/step - loss: 0.2921 - accuracy: 0.9240 - val_loss: 0.1898 - val_accuracy: 0.9594\n",
      "Epoch 12/12\n",
      "240/240 [==============================] - 1s 5ms/step - loss: 0.2848 - accuracy: 0.9280 - val_loss: 0.1839 - val_accuracy: 0.9595\n"
     ]
    },
    {
     "data": {
      "text/plain": [
       "<keras.callbacks.History at 0x7f951e0c4190>"
      ]
     },
     "execution_count": 10,
     "metadata": {},
     "output_type": "execute_result"
    }
   ],
   "source": [
    "NNmodel1.fit(x_train,y_train,epochs=12,validation_split=0.2,batch_size=200)"
   ]
  },
  {
   "cell_type": "code",
   "execution_count": 11,
   "metadata": {
    "colab": {
     "base_uri": "https://localhost:8080/"
    },
    "id": "a3MUbfqqMm0i",
    "outputId": "accda5d5-6b69-401c-93e1-3347d0e60a6a"
   },
   "outputs": [
    {
     "name": "stdout",
     "output_type": "stream",
     "text": [
      "313/313 [==============================] - 1s 2ms/step - loss: 0.1848 - accuracy: 0.9603\n",
      "This model predicts 96.03000283241272% of the test data correctly\n"
     ]
    }
   ],
   "source": [
    "print('This model predicts '+str(NNmodel1.evaluate(x_test,y_test)[1]*100) +'% of the test data correctly')"
   ]
  },
  {
   "cell_type": "markdown",
   "metadata": {
    "id": "i5uMLq36NfFb"
   },
   "source": [
    "## Model 2\n",
    "* Flatten\n",
    "* Dense - 64 nodes, ReLU activation, lambda regularization (lambda = 0.0002)\n",
    "* Dropout (0.1)\n",
    "* Dense (64 nodes, sigmoid activation)\n",
    "* Dense (10 nodes, softmax activation)\n",
    "* Optimizer - SGD\n",
    "* Epochs - 12\n",
    "* Batch size - 200\n",
    "* Validation size - 20%\n",
    "* Test set accuracy - 86.73%"
   ]
  },
  {
   "cell_type": "code",
   "execution_count": 12,
   "metadata": {
    "id": "BWXKnXx8NDc-"
   },
   "outputs": [],
   "source": [
    "NNmodel2 = tf.keras.models.Sequential([\n",
    "        tf.keras.layers.Flatten(input_shape=xshape),\n",
    "        tf.keras.layers.Dense(64,activation=tf.nn.relu,kernel_regularizer = tf.keras.regularizers.l1(0.0002)),\n",
    "        tf.keras.layers.Dropout(0.1),\n",
    "        tf.keras.layers.Dense(64,activation=tf.nn.sigmoid),\n",
    "        tf.keras.layers.Dense(10,activation=tf.nn.softmax)\n",
    "        ])"
   ]
  },
  {
   "cell_type": "code",
   "execution_count": 13,
   "metadata": {
    "colab": {
     "base_uri": "https://localhost:8080/"
    },
    "id": "4zDfAamkNDdA",
    "outputId": "5a11666b-22aa-4e73-de9d-b6bb8b82a0b7"
   },
   "outputs": [
    {
     "name": "stdout",
     "output_type": "stream",
     "text": [
      "Model: \"sequential_1\"\n",
      "_________________________________________________________________\n",
      " Layer (type)                Output Shape              Param #   \n",
      "=================================================================\n",
      " flatten_1 (Flatten)         (None, 784)               0         \n",
      "                                                                 \n",
      " dense_3 (Dense)             (None, 64)                50240     \n",
      "                                                                 \n",
      " dropout_1 (Dropout)         (None, 64)                0         \n",
      "                                                                 \n",
      " dense_4 (Dense)             (None, 64)                4160      \n",
      "                                                                 \n",
      " dense_5 (Dense)             (None, 10)                650       \n",
      "                                                                 \n",
      "=================================================================\n",
      "Total params: 55,050\n",
      "Trainable params: 55,050\n",
      "Non-trainable params: 0\n",
      "_________________________________________________________________\n"
     ]
    }
   ],
   "source": [
    "NNmodel2.compile(optimizer='sgd',\n",
    "              loss='sparse_categorical_crossentropy',\n",
    "              metrics=['accuracy'])\n",
    "\n",
    "NNmodel2.summary()"
   ]
  },
  {
   "cell_type": "code",
   "execution_count": 14,
   "metadata": {
    "colab": {
     "base_uri": "https://localhost:8080/"
    },
    "id": "kANfBSTlNDdB",
    "outputId": "469e19b8-d658-4344-e1f2-2a199e6b6330"
   },
   "outputs": [
    {
     "name": "stdout",
     "output_type": "stream",
     "text": [
      "Epoch 1/12\n",
      "240/240 [==============================] - 2s 5ms/step - loss: 2.6796 - accuracy: 0.2544 - val_loss: 2.5735 - val_accuracy: 0.4167\n",
      "Epoch 2/12\n",
      "240/240 [==============================] - 1s 5ms/step - loss: 2.4770 - accuracy: 0.4800 - val_loss: 2.3536 - val_accuracy: 0.5917\n",
      "Epoch 3/12\n",
      "240/240 [==============================] - 1s 5ms/step - loss: 2.2371 - accuracy: 0.5798 - val_loss: 2.0838 - val_accuracy: 0.6439\n",
      "Epoch 4/12\n",
      "240/240 [==============================] - 1s 5ms/step - loss: 1.9839 - accuracy: 0.6349 - val_loss: 1.8334 - val_accuracy: 0.7033\n",
      "Epoch 5/12\n",
      "240/240 [==============================] - 1s 4ms/step - loss: 1.7676 - accuracy: 0.6941 - val_loss: 1.6288 - val_accuracy: 0.7523\n",
      "Epoch 6/12\n",
      "240/240 [==============================] - 1s 4ms/step - loss: 1.5922 - accuracy: 0.7372 - val_loss: 1.4661 - val_accuracy: 0.7917\n",
      "Epoch 7/12\n",
      "240/240 [==============================] - 1s 5ms/step - loss: 1.4561 - accuracy: 0.7662 - val_loss: 1.3375 - val_accuracy: 0.8148\n",
      "Epoch 8/12\n",
      "240/240 [==============================] - 1s 5ms/step - loss: 1.3455 - accuracy: 0.7879 - val_loss: 1.2355 - val_accuracy: 0.8303\n",
      "Epoch 9/12\n",
      "240/240 [==============================] - 1s 5ms/step - loss: 1.2589 - accuracy: 0.8005 - val_loss: 1.1547 - val_accuracy: 0.8444\n",
      "Epoch 10/12\n",
      "240/240 [==============================] - 1s 4ms/step - loss: 1.1882 - accuracy: 0.8137 - val_loss: 1.0904 - val_accuracy: 0.8512\n",
      "Epoch 11/12\n",
      "240/240 [==============================] - 1s 4ms/step - loss: 1.1304 - accuracy: 0.8239 - val_loss: 1.0378 - val_accuracy: 0.8574\n",
      "Epoch 12/12\n",
      "240/240 [==============================] - 1s 4ms/step - loss: 1.0821 - accuracy: 0.8299 - val_loss: 0.9942 - val_accuracy: 0.8628\n"
     ]
    },
    {
     "data": {
      "text/plain": [
       "<keras.callbacks.History at 0x7f9519844250>"
      ]
     },
     "execution_count": 14,
     "metadata": {},
     "output_type": "execute_result"
    }
   ],
   "source": [
    "NNmodel2.fit(x_train,y_train,epochs=12,validation_split=0.2,batch_size=200)"
   ]
  },
  {
   "cell_type": "code",
   "execution_count": 15,
   "metadata": {
    "colab": {
     "base_uri": "https://localhost:8080/"
    },
    "id": "Nq7BKqdqNDdB",
    "outputId": "77243ed7-9b43-43e0-817b-ba079b75bbe5"
   },
   "outputs": [
    {
     "name": "stdout",
     "output_type": "stream",
     "text": [
      "313/313 [==============================] - 1s 2ms/step - loss: 0.9997 - accuracy: 0.8609\n",
      "This model predicts 86.08999848365784% of the test data correctly\n"
     ]
    }
   ],
   "source": [
    "print('This model predicts '+str(NNmodel2.evaluate(x_test,y_test)[1]*100) +'% of the test data correctly')"
   ]
  },
  {
   "cell_type": "markdown",
   "metadata": {
    "id": "FRQ46RaCOP3T"
   },
   "source": [
    "## Model 3\n",
    "* Convolutional layer - 64 nodes, 3x3 kernel, ReLU activation\n",
    "* Max pooling - 2x2 pool size\n",
    "* Flatten\n",
    "* Dropout (0.1)\n",
    "* Dense (64 nodes, sigmoid activation)\n",
    "* Dense (10 nodes, softmax activation)\n",
    "* Optimizer - adagrad\n",
    "* Epochs - 12\n",
    "* Batch size - 200\n",
    "* Validation size - 20%\n",
    "* Test set accuracy - 82.14%"
   ]
  },
  {
   "cell_type": "code",
   "execution_count": 23,
   "metadata": {
    "id": "VKdj56dKOMlW"
   },
   "outputs": [],
   "source": [
    "NNmodel3 = tf.keras.models.Sequential([\n",
    "        tf.keras.layers.Conv2D(filters = 64, kernel_size = (3,3), activation = 'relu', input_shape=xshape),\n",
    "        tf.keras.layers.MaxPooling2D(pool_size = (2,2)),\n",
    "        tf.keras.layers.Flatten(),\n",
    "        tf.keras.layers.Dropout(0.1),\n",
    "        tf.keras.layers.Dense(64,activation=tf.nn.sigmoid),\n",
    "        tf.keras.layers.Dense(10,activation=tf.nn.softmax)\n",
    "        ])"
   ]
  },
  {
   "cell_type": "code",
   "execution_count": 24,
   "metadata": {
    "colab": {
     "base_uri": "https://localhost:8080/"
    },
    "id": "ZQfrv6Xixtma",
    "outputId": "1cf87d2c-af38-4bb1-c93a-87e54bfcad4e"
   },
   "outputs": [
    {
     "name": "stdout",
     "output_type": "stream",
     "text": [
      "Model: \"sequential_5\"\n",
      "_________________________________________________________________\n",
      " Layer (type)                Output Shape              Param #   \n",
      "=================================================================\n",
      " conv2d_3 (Conv2D)           (None, 26, 26, 64)        640       \n",
      "                                                                 \n",
      " max_pooling2d_3 (MaxPooling  (None, 13, 13, 64)       0         \n",
      " 2D)                                                             \n",
      "                                                                 \n",
      " flatten_3 (Flatten)         (None, 10816)             0         \n",
      "                                                                 \n",
      " dropout_5 (Dropout)         (None, 10816)             0         \n",
      "                                                                 \n",
      " dense_12 (Dense)            (None, 64)                692288    \n",
      "                                                                 \n",
      " dense_13 (Dense)            (None, 10)                650       \n",
      "                                                                 \n",
      "=================================================================\n",
      "Total params: 693,578\n",
      "Trainable params: 693,578\n",
      "Non-trainable params: 0\n",
      "_________________________________________________________________\n"
     ]
    }
   ],
   "source": [
    "NNmodel3.compile(optimizer='adagrad',\n",
    "              loss='sparse_categorical_crossentropy',\n",
    "              metrics=['accuracy'])\n",
    "\n",
    "NNmodel3.summary()"
   ]
  },
  {
   "cell_type": "code",
   "execution_count": 25,
   "metadata": {
    "colab": {
     "base_uri": "https://localhost:8080/"
    },
    "id": "qTIzprysxtmb",
    "outputId": "2ac68f30-bd14-4829-a1b4-a8c6a0f32b27"
   },
   "outputs": [
    {
     "name": "stdout",
     "output_type": "stream",
     "text": [
      "Epoch 1/12\n",
      "240/240 [==============================] - 34s 141ms/step - loss: 2.3041 - accuracy: 0.1292 - val_loss: 2.2567 - val_accuracy: 0.2948\n",
      "Epoch 2/12\n",
      "240/240 [==============================] - 36s 149ms/step - loss: 2.2210 - accuracy: 0.4460 - val_loss: 2.1805 - val_accuracy: 0.6152\n",
      "Epoch 3/12\n",
      "240/240 [==============================] - 34s 141ms/step - loss: 2.1382 - accuracy: 0.6363 - val_loss: 2.0821 - val_accuracy: 0.6905\n",
      "Epoch 4/12\n",
      "240/240 [==============================] - 33s 139ms/step - loss: 2.0277 - accuracy: 0.6821 - val_loss: 1.9544 - val_accuracy: 0.7199\n",
      "Epoch 5/12\n",
      "240/240 [==============================] - 33s 138ms/step - loss: 1.8917 - accuracy: 0.7116 - val_loss: 1.8053 - val_accuracy: 0.7396\n",
      "Epoch 6/12\n",
      "240/240 [==============================] - 33s 139ms/step - loss: 1.7416 - accuracy: 0.7276 - val_loss: 1.6493 - val_accuracy: 0.7538\n",
      "Epoch 7/12\n",
      "240/240 [==============================] - 33s 138ms/step - loss: 1.5919 - accuracy: 0.7424 - val_loss: 1.5003 - val_accuracy: 0.7680\n",
      "Epoch 8/12\n",
      "240/240 [==============================] - 33s 138ms/step - loss: 1.4540 - accuracy: 0.7578 - val_loss: 1.3675 - val_accuracy: 0.7776\n",
      "Epoch 9/12\n",
      "240/240 [==============================] - 33s 138ms/step - loss: 1.3343 - accuracy: 0.7681 - val_loss: 1.2537 - val_accuracy: 0.7932\n",
      "Epoch 10/12\n",
      "240/240 [==============================] - 33s 138ms/step - loss: 1.2323 - accuracy: 0.7803 - val_loss: 1.1580 - val_accuracy: 0.8016\n",
      "Epoch 11/12\n",
      "240/240 [==============================] - 33s 139ms/step - loss: 1.1468 - accuracy: 0.7902 - val_loss: 1.0775 - val_accuracy: 0.8122\n",
      "Epoch 12/12\n",
      "240/240 [==============================] - 33s 139ms/step - loss: 1.0750 - accuracy: 0.7982 - val_loss: 1.0096 - val_accuracy: 0.8208\n"
     ]
    },
    {
     "data": {
      "text/plain": [
       "<keras.callbacks.History at 0x7f95188bf3d0>"
      ]
     },
     "execution_count": 25,
     "metadata": {},
     "output_type": "execute_result"
    }
   ],
   "source": [
    "NNmodel3.fit(x_train,y_train,epochs=12,validation_split=0.2,batch_size=200)"
   ]
  },
  {
   "cell_type": "code",
   "execution_count": 26,
   "metadata": {
    "colab": {
     "base_uri": "https://localhost:8080/"
    },
    "id": "yIn2vgd0xtmc",
    "outputId": "bafc8fa1-da16-4b26-fcb8-fbf58d88e0c6"
   },
   "outputs": [
    {
     "name": "stdout",
     "output_type": "stream",
     "text": [
      "313/313 [==============================] - 3s 8ms/step - loss: 1.0179 - accuracy: 0.8214\n",
      "This model predicts 82.1399986743927% of the test data correctly\n"
     ]
    }
   ],
   "source": [
    "print('This model predicts '+str(NNmodel3.evaluate(x_test,y_test)[1]*100) +'% of the test data correctly')"
   ]
  },
  {
   "cell_type": "markdown",
   "metadata": {
    "id": "FriOllBZ1PON"
   },
   "source": [
    "## Model 4\n",
    "* Convolution - 32 nodes, 3x3 kernel, ReLU activation\n",
    "* MaxPooling - 2x2 pool\n",
    "* Dropout - 25%\n",
    "* Convolution - 64 nodes, 3x3 kernel, ReLU activation\n",
    "* MaxPooling - 2x2 pool\n",
    "* Dropout - 25%\n",
    "* Convolution - 128 nodes, 3x3 kernel, ReLU activation\n",
    "* MaxPooling - 2x2 pool\n",
    "* Dropout - 25%\n",
    "* Flatten\n",
    "* Dense - 256 layers, ReLU activation\n",
    "* Dropout - 25%\n",
    "* Dense - 10 nodes (1 per output), softmax activation\n",
    "* Epochs - 20\n",
    "* Batch size - 50\n",
    "* Validation size - 20%\n",
    "* Test set accuracy - 98.95%\n"
   ]
  },
  {
   "cell_type": "code",
   "execution_count": 28,
   "metadata": {
    "id": "XZBnqR9d1VG_"
   },
   "outputs": [],
   "source": [
    "NNmodel4 = tf.keras.models.Sequential([\n",
    "        tf.keras.layers.Conv2D(filters = 32, kernel_size = (3,3), activation = 'relu', input_shape=xshape),\n",
    "        tf.keras.layers.MaxPooling2D(pool_size = (2,2)),\n",
    "        tf.keras.layers.Dropout(0.25),\n",
    "        \n",
    "        tf.keras.layers.Conv2D(filters = 64, kernel_size = (3,3), activation = 'relu', input_shape=xshape),\n",
    "        tf.keras.layers.MaxPooling2D(pool_size = (2,2)),\n",
    "        tf.keras.layers.Dropout(0.25),\n",
    "        \n",
    "        tf.keras.layers.Conv2D(filters = 128, kernel_size = (3,3), activation = 'relu', input_shape=xshape),\n",
    "        tf.keras.layers.MaxPooling2D(pool_size = (2,2)),\n",
    "        tf.keras.layers.Dropout(0.25),\n",
    "        \n",
    "        tf.keras.layers.Flatten(),\n",
    "\n",
    "        tf.keras.layers.Dense(256,activation='relu'),\n",
    "        tf.keras.layers.Dropout(0.25),\n",
    "        tf.keras.layers.Dense(10,activation=tf.nn.softmax)\n",
    "        ])"
   ]
  },
  {
   "cell_type": "code",
   "execution_count": 29,
   "metadata": {
    "colab": {
     "base_uri": "https://localhost:8080/"
    },
    "id": "RNrchQi_1VHD",
    "outputId": "dd8a09a2-2c66-4c45-f7d4-4cb4a13f868b"
   },
   "outputs": [
    {
     "name": "stdout",
     "output_type": "stream",
     "text": [
      "Model: \"sequential_6\"\n",
      "_________________________________________________________________\n",
      " Layer (type)                Output Shape              Param #   \n",
      "=================================================================\n",
      " conv2d_7 (Conv2D)           (None, 26, 26, 32)        320       \n",
      "                                                                 \n",
      " max_pooling2d_7 (MaxPooling  (None, 13, 13, 32)       0         \n",
      " 2D)                                                             \n",
      "                                                                 \n",
      " dropout_9 (Dropout)         (None, 13, 13, 32)        0         \n",
      "                                                                 \n",
      " conv2d_8 (Conv2D)           (None, 11, 11, 64)        18496     \n",
      "                                                                 \n",
      " max_pooling2d_8 (MaxPooling  (None, 5, 5, 64)         0         \n",
      " 2D)                                                             \n",
      "                                                                 \n",
      " dropout_10 (Dropout)        (None, 5, 5, 64)          0         \n",
      "                                                                 \n",
      " conv2d_9 (Conv2D)           (None, 3, 3, 128)         73856     \n",
      "                                                                 \n",
      " max_pooling2d_9 (MaxPooling  (None, 1, 1, 128)        0         \n",
      " 2D)                                                             \n",
      "                                                                 \n",
      " dropout_11 (Dropout)        (None, 1, 1, 128)         0         \n",
      "                                                                 \n",
      " flatten_5 (Flatten)         (None, 128)               0         \n",
      "                                                                 \n",
      " dense_15 (Dense)            (None, 256)               33024     \n",
      "                                                                 \n",
      " dropout_12 (Dropout)        (None, 256)               0         \n",
      "                                                                 \n",
      " dense_16 (Dense)            (None, 10)                2570      \n",
      "                                                                 \n",
      "=================================================================\n",
      "Total params: 128,266\n",
      "Trainable params: 128,266\n",
      "Non-trainable params: 0\n",
      "_________________________________________________________________\n"
     ]
    }
   ],
   "source": [
    "NNmodel4.compile(optimizer='adam',\n",
    "              loss='sparse_categorical_crossentropy',\n",
    "              metrics=['accuracy'])\n",
    "\n",
    "NNmodel4.summary()"
   ]
  },
  {
   "cell_type": "code",
   "execution_count": 31,
   "metadata": {
    "colab": {
     "base_uri": "https://localhost:8080/"
    },
    "id": "0zr577w-1VHG",
    "outputId": "c86158dc-5603-4014-c7b8-d13384c109e5"
   },
   "outputs": [
    {
     "name": "stdout",
     "output_type": "stream",
     "text": [
      "Epoch 1/20\n",
      "960/960 [==============================] - 48s 50ms/step - loss: 0.3609 - accuracy: 0.8864 - val_loss: 0.1053 - val_accuracy: 0.9676\n",
      "Epoch 2/20\n",
      "960/960 [==============================] - 47s 49ms/step - loss: 0.1520 - accuracy: 0.9535 - val_loss: 0.0709 - val_accuracy: 0.9782\n",
      "Epoch 3/20\n",
      "960/960 [==============================] - 48s 50ms/step - loss: 0.1155 - accuracy: 0.9652 - val_loss: 0.0549 - val_accuracy: 0.9835\n",
      "Epoch 4/20\n",
      "960/960 [==============================] - 47s 49ms/step - loss: 0.0924 - accuracy: 0.9719 - val_loss: 0.0500 - val_accuracy: 0.9845\n",
      "Epoch 5/20\n",
      "960/960 [==============================] - 47s 49ms/step - loss: 0.0842 - accuracy: 0.9741 - val_loss: 0.0457 - val_accuracy: 0.9862\n",
      "Epoch 6/20\n",
      "960/960 [==============================] - 47s 49ms/step - loss: 0.0749 - accuracy: 0.9773 - val_loss: 0.0479 - val_accuracy: 0.9863\n",
      "Epoch 7/20\n",
      "960/960 [==============================] - 47s 49ms/step - loss: 0.0690 - accuracy: 0.9792 - val_loss: 0.0394 - val_accuracy: 0.9885\n",
      "Epoch 8/20\n",
      "960/960 [==============================] - 47s 49ms/step - loss: 0.0655 - accuracy: 0.9801 - val_loss: 0.0388 - val_accuracy: 0.9882\n",
      "Epoch 9/20\n",
      "960/960 [==============================] - 46s 48ms/step - loss: 0.0596 - accuracy: 0.9812 - val_loss: 0.0357 - val_accuracy: 0.9888\n",
      "Epoch 10/20\n",
      "960/960 [==============================] - 47s 49ms/step - loss: 0.0554 - accuracy: 0.9828 - val_loss: 0.0376 - val_accuracy: 0.9887\n",
      "Epoch 11/20\n",
      "960/960 [==============================] - 47s 49ms/step - loss: 0.0526 - accuracy: 0.9841 - val_loss: 0.0389 - val_accuracy: 0.9889\n",
      "Epoch 12/20\n",
      "960/960 [==============================] - 46s 48ms/step - loss: 0.0519 - accuracy: 0.9839 - val_loss: 0.0358 - val_accuracy: 0.9893\n",
      "Epoch 13/20\n",
      "960/960 [==============================] - 46s 48ms/step - loss: 0.0488 - accuracy: 0.9846 - val_loss: 0.0350 - val_accuracy: 0.9897\n",
      "Epoch 14/20\n",
      "960/960 [==============================] - 46s 48ms/step - loss: 0.0478 - accuracy: 0.9853 - val_loss: 0.0353 - val_accuracy: 0.9899\n",
      "Epoch 15/20\n",
      "960/960 [==============================] - 46s 48ms/step - loss: 0.0420 - accuracy: 0.9871 - val_loss: 0.0433 - val_accuracy: 0.9880\n",
      "Epoch 16/20\n",
      "960/960 [==============================] - 46s 48ms/step - loss: 0.0418 - accuracy: 0.9868 - val_loss: 0.0386 - val_accuracy: 0.9895\n",
      "Epoch 17/20\n",
      "960/960 [==============================] - 46s 48ms/step - loss: 0.0419 - accuracy: 0.9868 - val_loss: 0.0320 - val_accuracy: 0.9912\n",
      "Epoch 18/20\n",
      "960/960 [==============================] - 46s 48ms/step - loss: 0.0412 - accuracy: 0.9874 - val_loss: 0.0328 - val_accuracy: 0.9907\n",
      "Epoch 19/20\n",
      "960/960 [==============================] - 47s 49ms/step - loss: 0.0391 - accuracy: 0.9875 - val_loss: 0.0383 - val_accuracy: 0.9890\n",
      "Epoch 20/20\n",
      "960/960 [==============================] - 46s 48ms/step - loss: 0.0397 - accuracy: 0.9873 - val_loss: 0.0374 - val_accuracy: 0.9890\n"
     ]
    },
    {
     "data": {
      "text/plain": [
       "<keras.callbacks.History at 0x7f95186c8290>"
      ]
     },
     "execution_count": 31,
     "metadata": {},
     "output_type": "execute_result"
    }
   ],
   "source": [
    "NNmodel4.fit(x_train,y_train,epochs=20,validation_split=0.2,batch_size=50)"
   ]
  },
  {
   "cell_type": "code",
   "execution_count": 32,
   "metadata": {
    "colab": {
     "base_uri": "https://localhost:8080/"
    },
    "id": "n-Y6-lP51VHJ",
    "outputId": "09b5b4d1-0987-4230-c464-0f7c1bbc8319"
   },
   "outputs": [
    {
     "name": "stdout",
     "output_type": "stream",
     "text": [
      "313/313 [==============================] - 3s 10ms/step - loss: 0.0393 - accuracy: 0.9895\n",
      "This model predicts 98.94999861717224% of the test data correctly\n"
     ]
    }
   ],
   "source": [
    "print('This model predicts '+str(NNmodel4.evaluate(x_test,y_test)[1]*100) +'% of the test data correctly')"
   ]
  },
  {
   "cell_type": "markdown",
   "metadata": {
    "id": "1USNaEkWI_VQ"
   },
   "source": [
    "## Model 5\n",
    "* Convolution - 32 nodes, 3x3 kernel, ReLU activation\n",
    "* MaxPooling - 2x2 pool\n",
    "* Dropout - 30%\n",
    "* Convolution - 64 nodes, 3x3 kernel, ReLU activation\n",
    "* MaxPooling - 2x2 pool\n",
    "* Dropout - 30%\n",
    "* Convolution - 128 nodes, 3x3 kernel, ReLU activation\n",
    "* MaxPooling - 2x2 pool\n",
    "* Dropout - 30%\n",
    "* Flatten\n",
    "* Dense - 256 layers, ReLU activation\n",
    "* Dropout - 30%\n",
    "* Dense - 10 nodes (1 per output), softmax activation\n",
    "* Epochs - 20\n",
    "* Batch size - 50\n",
    "* Validation size - 20%\n",
    "* Test set accuracy - 99.03%\n",
    "\n"
   ]
  },
  {
   "cell_type": "code",
   "execution_count": 33,
   "metadata": {
    "id": "LANukCpUI_VR"
   },
   "outputs": [],
   "source": [
    "NNmodel5 = tf.keras.models.Sequential([\n",
    "        tf.keras.layers.Conv2D(filters = 32, kernel_size = (3,3), activation = 'relu', input_shape=xshape),\n",
    "        tf.keras.layers.MaxPooling2D(pool_size = (2,2)),\n",
    "        tf.keras.layers.Dropout(0.3),\n",
    "        \n",
    "        tf.keras.layers.Conv2D(filters = 64, kernel_size = (3,3), activation = 'relu', input_shape=xshape),\n",
    "        tf.keras.layers.MaxPooling2D(pool_size = (2,2)),\n",
    "        tf.keras.layers.Dropout(0.3),\n",
    "        \n",
    "        tf.keras.layers.Conv2D(filters = 128, kernel_size = (3,3), activation = 'relu', input_shape=xshape),\n",
    "        tf.keras.layers.MaxPooling2D(pool_size = (2,2)),\n",
    "        tf.keras.layers.Dropout(0.3),\n",
    "        \n",
    "        tf.keras.layers.Flatten(),\n",
    "\n",
    "        tf.keras.layers.Dense(256,activation='relu'),\n",
    "        tf.keras.layers.Dropout(0.3),\n",
    "        tf.keras.layers.Dense(10,activation=tf.nn.softmax)\n",
    "        ])"
   ]
  },
  {
   "cell_type": "code",
   "execution_count": 34,
   "metadata": {
    "colab": {
     "base_uri": "https://localhost:8080/"
    },
    "id": "El2C_k7hI_VR",
    "outputId": "c2781720-73c1-4e1c-a3f8-7216a30e5988"
   },
   "outputs": [
    {
     "name": "stdout",
     "output_type": "stream",
     "text": [
      "Model: \"sequential_7\"\n",
      "_________________________________________________________________\n",
      " Layer (type)                Output Shape              Param #   \n",
      "=================================================================\n",
      " conv2d_10 (Conv2D)          (None, 26, 26, 32)        320       \n",
      "                                                                 \n",
      " max_pooling2d_10 (MaxPoolin  (None, 13, 13, 32)       0         \n",
      " g2D)                                                            \n",
      "                                                                 \n",
      " dropout_13 (Dropout)        (None, 13, 13, 32)        0         \n",
      "                                                                 \n",
      " conv2d_11 (Conv2D)          (None, 11, 11, 64)        18496     \n",
      "                                                                 \n",
      " max_pooling2d_11 (MaxPoolin  (None, 5, 5, 64)         0         \n",
      " g2D)                                                            \n",
      "                                                                 \n",
      " dropout_14 (Dropout)        (None, 5, 5, 64)          0         \n",
      "                                                                 \n",
      " conv2d_12 (Conv2D)          (None, 3, 3, 128)         73856     \n",
      "                                                                 \n",
      " max_pooling2d_12 (MaxPoolin  (None, 1, 1, 128)        0         \n",
      " g2D)                                                            \n",
      "                                                                 \n",
      " dropout_15 (Dropout)        (None, 1, 1, 128)         0         \n",
      "                                                                 \n",
      " flatten_6 (Flatten)         (None, 128)               0         \n",
      "                                                                 \n",
      " dense_17 (Dense)            (None, 256)               33024     \n",
      "                                                                 \n",
      " dropout_16 (Dropout)        (None, 256)               0         \n",
      "                                                                 \n",
      " dense_18 (Dense)            (None, 10)                2570      \n",
      "                                                                 \n",
      "=================================================================\n",
      "Total params: 128,266\n",
      "Trainable params: 128,266\n",
      "Non-trainable params: 0\n",
      "_________________________________________________________________\n"
     ]
    }
   ],
   "source": [
    "NNmodel5.compile(optimizer='adam',\n",
    "              loss='sparse_categorical_crossentropy',\n",
    "              metrics=['accuracy'])\n",
    "# sparse categorical cross-entropy removes the requirement for us to do one-hot encoding\n",
    "\n",
    "NNmodel5.summary()"
   ]
  },
  {
   "cell_type": "code",
   "execution_count": 35,
   "metadata": {
    "colab": {
     "base_uri": "https://localhost:8080/"
    },
    "id": "ikEO0l-7I_VS",
    "outputId": "313ec042-a62e-4911-bc34-10e43c155c8d"
   },
   "outputs": [
    {
     "name": "stdout",
     "output_type": "stream",
     "text": [
      "Epoch 1/20\n",
      "960/960 [==============================] - 46s 47ms/step - loss: 0.4691 - accuracy: 0.8474 - val_loss: 0.0884 - val_accuracy: 0.9721\n",
      "Epoch 2/20\n",
      "960/960 [==============================] - 46s 48ms/step - loss: 0.1586 - accuracy: 0.9520 - val_loss: 0.0707 - val_accuracy: 0.9785\n",
      "Epoch 3/20\n",
      "960/960 [==============================] - 46s 47ms/step - loss: 0.1278 - accuracy: 0.9616 - val_loss: 0.0577 - val_accuracy: 0.9833\n",
      "Epoch 4/20\n",
      "960/960 [==============================] - 46s 48ms/step - loss: 0.1075 - accuracy: 0.9678 - val_loss: 0.0534 - val_accuracy: 0.9840\n",
      "Epoch 5/20\n",
      "960/960 [==============================] - 46s 48ms/step - loss: 0.0939 - accuracy: 0.9711 - val_loss: 0.0464 - val_accuracy: 0.9874\n",
      "Epoch 6/20\n",
      "960/960 [==============================] - 46s 48ms/step - loss: 0.0876 - accuracy: 0.9733 - val_loss: 0.0498 - val_accuracy: 0.9851\n",
      "Epoch 7/20\n",
      "960/960 [==============================] - 46s 48ms/step - loss: 0.0795 - accuracy: 0.9759 - val_loss: 0.0448 - val_accuracy: 0.9860\n",
      "Epoch 8/20\n",
      "960/960 [==============================] - 46s 48ms/step - loss: 0.0743 - accuracy: 0.9769 - val_loss: 0.0475 - val_accuracy: 0.9867\n",
      "Epoch 9/20\n",
      "960/960 [==============================] - 45s 47ms/step - loss: 0.0700 - accuracy: 0.9781 - val_loss: 0.0451 - val_accuracy: 0.9872\n",
      "Epoch 10/20\n",
      "960/960 [==============================] - 45s 47ms/step - loss: 0.0678 - accuracy: 0.9795 - val_loss: 0.0397 - val_accuracy: 0.9887\n",
      "Epoch 11/20\n",
      "960/960 [==============================] - 45s 47ms/step - loss: 0.0630 - accuracy: 0.9805 - val_loss: 0.0384 - val_accuracy: 0.9887\n",
      "Epoch 12/20\n",
      "960/960 [==============================] - 46s 48ms/step - loss: 0.0630 - accuracy: 0.9808 - val_loss: 0.0388 - val_accuracy: 0.9900\n",
      "Epoch 13/20\n",
      "960/960 [==============================] - 45s 47ms/step - loss: 0.0630 - accuracy: 0.9800 - val_loss: 0.0413 - val_accuracy: 0.9883\n",
      "Epoch 14/20\n",
      "960/960 [==============================] - 45s 47ms/step - loss: 0.0545 - accuracy: 0.9832 - val_loss: 0.0407 - val_accuracy: 0.9889\n",
      "Epoch 15/20\n",
      "960/960 [==============================] - 45s 47ms/step - loss: 0.0583 - accuracy: 0.9820 - val_loss: 0.0381 - val_accuracy: 0.9893\n",
      "Epoch 16/20\n",
      "960/960 [==============================] - 45s 47ms/step - loss: 0.0554 - accuracy: 0.9833 - val_loss: 0.0363 - val_accuracy: 0.9901\n",
      "Epoch 17/20\n",
      "960/960 [==============================] - 46s 47ms/step - loss: 0.0535 - accuracy: 0.9839 - val_loss: 0.0384 - val_accuracy: 0.9904\n",
      "Epoch 18/20\n",
      "960/960 [==============================] - 46s 48ms/step - loss: 0.0520 - accuracy: 0.9838 - val_loss: 0.0397 - val_accuracy: 0.9898\n",
      "Epoch 19/20\n",
      "960/960 [==============================] - 45s 47ms/step - loss: 0.0497 - accuracy: 0.9847 - val_loss: 0.0394 - val_accuracy: 0.9898\n",
      "Epoch 20/20\n",
      "960/960 [==============================] - 44s 46ms/step - loss: 0.0507 - accuracy: 0.9843 - val_loss: 0.0349 - val_accuracy: 0.9904\n"
     ]
    },
    {
     "data": {
      "text/plain": [
       "<keras.callbacks.History at 0x7f951854e810>"
      ]
     },
     "execution_count": 35,
     "metadata": {},
     "output_type": "execute_result"
    }
   ],
   "source": [
    "NNmodel5.fit(x_train,y_train,epochs=20,validation_split=0.2,batch_size=50)"
   ]
  },
  {
   "cell_type": "code",
   "execution_count": 36,
   "metadata": {
    "colab": {
     "base_uri": "https://localhost:8080/"
    },
    "id": "8NZROgRII_VS",
    "outputId": "4566e58e-9b57-46cb-c405-3251c03db376"
   },
   "outputs": [
    {
     "name": "stdout",
     "output_type": "stream",
     "text": [
      "313/313 [==============================] - 3s 10ms/step - loss: 0.0326 - accuracy: 0.9903\n",
      "This model predicts 99.02999997138977% of the test data correctly\n"
     ]
    }
   ],
   "source": [
    "print('This model predicts '+str(NNmodel5.evaluate(x_test,y_test)[1]*100) +'% of the test data correctly')"
   ]
  },
  {
   "cell_type": "markdown",
   "metadata": {
    "id": "7tzr8RLqThnH"
   },
   "source": [
    "## Training on entire training set"
   ]
  },
  {
   "cell_type": "code",
   "execution_count": 85,
   "metadata": {
    "colab": {
     "base_uri": "https://localhost:8080/"
    },
    "id": "v3eDIx0SThKZ",
    "outputId": "8ccac8dc-5135-45c0-cf60-a1560c9c78b5"
   },
   "outputs": [
    {
     "name": "stdout",
     "output_type": "stream",
     "text": [
      "Epoch 1/20\n",
      "1200/1200 [==============================] - 54s 45ms/step - loss: 0.0564 - accuracy: 0.9833\n",
      "Epoch 2/20\n",
      "1200/1200 [==============================] - 54s 45ms/step - loss: 0.0525 - accuracy: 0.9837\n",
      "Epoch 3/20\n",
      "1200/1200 [==============================] - 54s 45ms/step - loss: 0.0516 - accuracy: 0.9839\n",
      "Epoch 4/20\n",
      "1200/1200 [==============================] - 54s 45ms/step - loss: 0.0505 - accuracy: 0.9840\n",
      "Epoch 5/20\n",
      "1200/1200 [==============================] - 54s 45ms/step - loss: 0.0510 - accuracy: 0.9848\n",
      "Epoch 6/20\n",
      "1200/1200 [==============================] - 54s 45ms/step - loss: 0.0497 - accuracy: 0.9849\n",
      "Epoch 7/20\n",
      "1200/1200 [==============================] - 54s 45ms/step - loss: 0.0479 - accuracy: 0.9853\n",
      "Epoch 8/20\n",
      "1200/1200 [==============================] - 54s 45ms/step - loss: 0.0497 - accuracy: 0.9851\n",
      "Epoch 9/20\n",
      "1200/1200 [==============================] - 54s 45ms/step - loss: 0.0453 - accuracy: 0.9857\n",
      "Epoch 10/20\n",
      "1200/1200 [==============================] - 54s 45ms/step - loss: 0.0454 - accuracy: 0.9857\n",
      "Epoch 11/20\n",
      "1200/1200 [==============================] - 54s 45ms/step - loss: 0.0452 - accuracy: 0.9862\n",
      "Epoch 12/20\n",
      "1200/1200 [==============================] - 54s 45ms/step - loss: 0.0453 - accuracy: 0.9864\n",
      "Epoch 13/20\n",
      "1200/1200 [==============================] - 54s 45ms/step - loss: 0.0471 - accuracy: 0.9857\n",
      "Epoch 14/20\n",
      "1200/1200 [==============================] - 54s 45ms/step - loss: 0.0424 - accuracy: 0.9874\n",
      "Epoch 15/20\n",
      "1200/1200 [==============================] - 54s 45ms/step - loss: 0.0442 - accuracy: 0.9858\n",
      "Epoch 16/20\n",
      "1200/1200 [==============================] - 54s 45ms/step - loss: 0.0415 - accuracy: 0.9873\n",
      "Epoch 17/20\n",
      "1200/1200 [==============================] - 54s 45ms/step - loss: 0.0449 - accuracy: 0.9861\n",
      "Epoch 18/20\n",
      "1200/1200 [==============================] - 55s 45ms/step - loss: 0.0425 - accuracy: 0.9869\n",
      "Epoch 19/20\n",
      "1200/1200 [==============================] - 54s 45ms/step - loss: 0.0422 - accuracy: 0.9868\n",
      "Epoch 20/20\n",
      "1200/1200 [==============================] - 54s 45ms/step - loss: 0.0406 - accuracy: 0.9876\n"
     ]
    },
    {
     "data": {
      "text/plain": [
       "<keras.callbacks.History at 0x7f9510a6fc50>"
      ]
     },
     "execution_count": 85,
     "metadata": {},
     "output_type": "execute_result"
    }
   ],
   "source": [
    "NNmodel5.fit(x_train,y_train,epochs=20,batch_size=50)"
   ]
  },
  {
   "cell_type": "code",
   "execution_count": 86,
   "metadata": {
    "colab": {
     "base_uri": "https://localhost:8080/"
    },
    "id": "8Acke1Z1Tojl",
    "outputId": "57c5ec5c-8378-4082-89e7-74cfe17d5ba6"
   },
   "outputs": [
    {
     "name": "stdout",
     "output_type": "stream",
     "text": [
      "313/313 [==============================] - 3s 10ms/step - loss: 0.0344 - accuracy: 0.9915\n",
      "This model predicts 99.15000200271606% of the test data correctly\n"
     ]
    }
   ],
   "source": [
    "print('This model predicts '+str(NNmodel5.evaluate(x_test,y_test)[1]*100) +'% of the test data correctly')"
   ]
  },
  {
   "cell_type": "code",
   "execution_count": 87,
   "metadata": {
    "colab": {
     "base_uri": "https://localhost:8080/"
    },
    "id": "nO3fL8dKN0sq",
    "outputId": "ae7d7eb3-3832-49f0-a3b2-ecb711705392"
   },
   "outputs": [
    {
     "data": {
      "text/plain": [
       "array([[3.63574425e-14, 5.26470256e-10, 1.64689240e-07, ...,\n",
       "        9.99999881e-01, 1.80792305e-14, 8.08101974e-10],\n",
       "       [2.06233217e-08, 2.56971106e-07, 9.99997020e-01, ...,\n",
       "        2.56863905e-06, 7.78667939e-08, 1.90531466e-10],\n",
       "       [5.59328051e-08, 9.99989510e-01, 5.52372239e-06, ...,\n",
       "        8.10787355e-07, 1.38333871e-06, 1.46975578e-08],\n",
       "       ...,\n",
       "       [5.60317413e-19, 1.13580130e-15, 1.25957918e-15, ...,\n",
       "        1.34356924e-12, 4.46183368e-11, 2.16229829e-11],\n",
       "       [2.04018774e-10, 2.60984168e-11, 8.73658107e-14, ...,\n",
       "        6.43742499e-16, 4.07585468e-08, 8.61151417e-09],\n",
       "       [1.10648816e-10, 1.85303992e-14, 9.80721472e-13, ...,\n",
       "        2.35021044e-20, 1.20766286e-10, 1.40765915e-12]], dtype=float32)"
      ]
     },
     "execution_count": 87,
     "metadata": {},
     "output_type": "execute_result"
    }
   ],
   "source": [
    "pred = NNmodel5.predict(x_test)\n",
    "pred"
   ]
  },
  {
   "cell_type": "code",
   "execution_count": 88,
   "metadata": {
    "id": "pnb869u6PAjN"
   },
   "outputs": [],
   "source": [
    "incorrect = []\n",
    "for i in range(len(pred)):\n",
    "    if pred[i].argmax() != y_test[i]:\n",
    "        incorrect.append(i)"
   ]
  },
  {
   "cell_type": "code",
   "execution_count": 94,
   "metadata": {
    "colab": {
     "base_uri": "https://localhost:8080/"
    },
    "id": "uetax0OBR58m",
    "outputId": "aec4990e-1597-406e-afcc-22c4c051f424"
   },
   "outputs": [
    {
     "data": {
      "text/plain": [
       "{'0 mistaken for 2': 1,\n",
       " '0 mistaken for 5': 1,\n",
       " '0 mistaken for 6': 3,\n",
       " '1 mistaken for 0': 1,\n",
       " '1 mistaken for 6': 2,\n",
       " '1 mistaken for 7': 2,\n",
       " '1 mistaken for 8': 1,\n",
       " '2 mistaken for 0': 1,\n",
       " '2 mistaken for 3': 2,\n",
       " '2 mistaken for 6': 1,\n",
       " '2 mistaken for 7': 3,\n",
       " '2 mistaken for 8': 1,\n",
       " '3 mistaken for 2': 1,\n",
       " '3 mistaken for 5': 3,\n",
       " '3 mistaken for 8': 2,\n",
       " '4 mistaken for 6': 1,\n",
       " '4 mistaken for 8': 1,\n",
       " '4 mistaken for 9': 3,\n",
       " '5 mistaken for 3': 3,\n",
       " '5 mistaken for 6': 1,\n",
       " '5 mistaken for 7': 1,\n",
       " '5 mistaken for 9': 3,\n",
       " '6 mistaken for 0': 1,\n",
       " '6 mistaken for 2': 1,\n",
       " '6 mistaken for 4': 3,\n",
       " '6 mistaken for 5': 2,\n",
       " '6 mistaken for 9': 1,\n",
       " '7 mistaken for 0': 2,\n",
       " '7 mistaken for 1': 2,\n",
       " '7 mistaken for 2': 10,\n",
       " '7 mistaken for 3': 1,\n",
       " '7 mistaken for 5': 1,\n",
       " '7 mistaken for 8': 1,\n",
       " '7 mistaken for 9': 7,\n",
       " '8 mistaken for 6': 2,\n",
       " '8 mistaken for 9': 3,\n",
       " '9 mistaken for 0': 1,\n",
       " '9 mistaken for 4': 6,\n",
       " '9 mistaken for 8': 3}"
      ]
     },
     "execution_count": 94,
     "metadata": {},
     "output_type": "execute_result"
    }
   ],
   "source": [
    "error_set = {}\n",
    "for i in incorrect:\n",
    "    if str(pred[i].argmax()) + ' mistaken for ' + str(y_test[i]) not in error_set:\n",
    "        error_set[str(pred[i].argmax()) + ' mistaken for ' + str(y_test[i])] = 1\n",
    "    else:\n",
    "        error_set[str(pred[i].argmax()) + ' mistaken for ' + str(y_test[i])] += 1\n",
    "error_set"
   ]
  },
  {
   "cell_type": "markdown",
   "metadata": {
    "id": "-UAQ2VQ-bmsI"
   },
   "source": [
    "## Insights\n",
    "This model predicts the test set with 99.15% accuracy, which is fantastic.   \n",
    "As can be seen, the most frequent errors made by the model are:  \n",
    "\n",
    "\n",
    "1.   7 mistaken for 2 (10 times)\n",
    "2.   7 mistaken for 9 (7 times)\n",
    "3.   9 mistaken for 4 (6 times)\n",
    "\n",
    "I have visualized all the numbers that were incorrectly labeled by the model below. The numbers that the model misidentified would have likely also caused confusion to any human trying to identify what the actual number was (maybe the number was written by a doctor!)  \n",
    "\n",
    "7 and 2 can easily be confused, as can 7 and 9.  \n",
    "9 for 4 may be due to the top ends of the 4 being close enough that it looks like a 9.\n",
    "\n",
    "\n",
    "It is possible to get 100% accuracy (in fact, Slava Moiseev has documented his model with 0 test set errors [here](https://medium.com/@vbm1973/classification-of-mnist-data-with-100-accuracy-d8037a43eebb)). The way he did it was he trained separate models to identify each number, and then created an ensemble model incorporating all of the individual models."
   ]
  },
  {
   "cell_type": "code",
   "execution_count": 96,
   "metadata": {
    "colab": {
     "base_uri": "https://localhost:8080/",
     "height": 1000
    },
    "id": "7NNvBcWDPYa0",
    "outputId": "2e7b1745-f095-406c-c6eb-82e139d197a1",
    "scrolled": false
   },
   "outputs": [
    {
     "name": "stdout",
     "output_type": "stream",
     "text": [
      "\n",
      "Actual image:\n",
      "\n"
     ]
    },
    {
     "data": {
      "image/png": "[encoded data removed]",
      "text/plain": [
       "<Figure size 432x288 with 1 Axes>"
      ]
     },
     "metadata": {
      "needs_background": "light"
     },
     "output_type": "display_data"
    },
    {
     "name": "stdout",
     "output_type": "stream",
     "text": [
      "\n",
      "Predicted value: 9\n",
      "--------------------------------------------------\n",
      "\n",
      "Actual image:\n",
      "\n"
     ]
    },
    {
     "data": {
      "image/png": "[encoded data removed]",
      "text/plain": [
       "<Figure size 432x288 with 1 Axes>"
      ]
     },
     "metadata": {
      "needs_background": "light"
     },
     "output_type": "display_data"
    },
    {
     "name": "stdout",
     "output_type": "stream",
     "text": [
      "\n",
      "Predicted value: 6\n",
      "--------------------------------------------------\n",
      "\n",
      "Actual image:\n",
      "\n"
     ]
    },
    {
     "data": {
      "image/png": "[encoded data removed]",
      "text/plain": [
       "<Figure size 432x288 with 1 Axes>"
      ]
     },
     "metadata": {
      "needs_background": "light"
     },
     "output_type": "display_data"
    },
    {
     "name": "stdout",
     "output_type": "stream",
     "text": [
      "\n",
      "Predicted value: 8\n",
      "--------------------------------------------------\n",
      "\n",
      "Actual image:\n",
      "\n"
     ]
    },
    {
     "data": {
      "image/png": "[encoded data removed]",
      "text/plain": [
       "<Figure size 432x288 with 1 Axes>"
      ]
     },
     "metadata": {
      "needs_background": "light"
     },
     "output_type": "display_data"
    },
    {
     "name": "stdout",
     "output_type": "stream",
     "text": [
      "\n",
      "Predicted value: 7\n",
      "--------------------------------------------------\n",
      "\n",
      "Actual image:\n",
      "\n"
     ]
    },
    {
     "data": {
      "image/png": "[encoded data removed]",
      "text/plain": [
       "<Figure size 432x288 with 1 Axes>"
      ]
     },
     "metadata": {
      "needs_background": "light"
     },
     "output_type": "display_data"
    },
    {
     "name": "stdout",
     "output_type": "stream",
     "text": [
      "\n",
      "Predicted value: 0\n",
      "--------------------------------------------------\n",
      "\n",
      "Actual image:\n",
      "\n"
     ]
    },
    {
     "data": {
      "image/png": "[encoded data removed]",
      "text/plain": [
       "<Figure size 432x288 with 1 Axes>"
      ]
     },
     "metadata": {
      "needs_background": "light"
     },
     "output_type": "display_data"
    },
    {
     "name": "stdout",
     "output_type": "stream",
     "text": [
      "\n",
      "Predicted value: 5\n",
      "--------------------------------------------------\n",
      "\n",
      "Actual image:\n",
      "\n"
     ]
    },
    {
     "data": {
      "image/png": "[encoded data removed]",
      "text/plain": [
       "<Figure size 432x288 with 1 Axes>"
      ]
     },
     "metadata": {
      "needs_background": "light"
     },
     "output_type": "display_data"
    },
    {
     "name": "stdout",
     "output_type": "stream",
     "text": [
      "\n",
      "Predicted value: 2\n",
      "--------------------------------------------------\n",
      "\n",
      "Actual image:\n",
      "\n"
     ]
    },
    {
     "data": {
      "image/png": "[encoded data removed]",
      "text/plain": [
       "<Figure size 432x288 with 1 Axes>"
      ]
     },
     "metadata": {
      "needs_background": "light"
     },
     "output_type": "display_data"
    },
    {
     "name": "stdout",
     "output_type": "stream",
     "text": [
      "\n",
      "Predicted value: 6\n",
      "--------------------------------------------------\n",
      "\n",
      "Actual image:\n",
      "\n"
     ]
    },
    {
     "data": {
      "image/png": "[encoded data removed]",
      "text/plain": [
       "<Figure size 432x288 with 1 Axes>"
      ]
     },
     "metadata": {
      "needs_background": "light"
     },
     "output_type": "display_data"
    },
    {
     "name": "stdout",
     "output_type": "stream",
     "text": [
      "\n",
      "Predicted value: 7\n",
      "--------------------------------------------------\n",
      "\n",
      "Actual image:\n",
      "\n"
     ]
    },
    {
     "data": {
      "image/png": "[encoded data removed]",
      "text/plain": [
       "<Figure size 432x288 with 1 Axes>"
      ]
     },
     "metadata": {
      "needs_background": "light"
     },
     "output_type": "display_data"
    },
    {
     "name": "stdout",
     "output_type": "stream",
     "text": [
      "\n",
      "Predicted value: 7\n",
      "--------------------------------------------------\n",
      "\n",
      "Actual image:\n",
      "\n"
     ]
    },
    {
     "data": {
      "image/png": "[encoded data removed]",
      "text/plain": [
       "<Figure size 432x288 with 1 Axes>"
      ]
     },
     "metadata": {
      "needs_background": "light"
     },
     "output_type": "display_data"
    },
    {
     "name": "stdout",
     "output_type": "stream",
     "text": [
      "\n",
      "Predicted value: 5\n",
      "--------------------------------------------------\n",
      "\n",
      "Actual image:\n",
      "\n"
     ]
    },
    {
     "data": {
      "image/png": "[encoded data removed]",
      "text/plain": [
       "<Figure size 432x288 with 1 Axes>"
      ]
     },
     "metadata": {
      "needs_background": "light"
     },
     "output_type": "display_data"
    },
    {
     "name": "stdout",
     "output_type": "stream",
     "text": [
      "\n",
      "Predicted value: 3\n",
      "--------------------------------------------------\n",
      "\n",
      "Actual image:\n",
      "\n"
     ]
    },
    {
     "data": {
      "image/png": "[encoded data removed]",
      "text/plain": [
       "<Figure size 432x288 with 1 Axes>"
      ]
     },
     "metadata": {
      "needs_background": "light"
     },
     "output_type": "display_data"
    },
    {
     "name": "stdout",
     "output_type": "stream",
     "text": [
      "\n",
      "Predicted value: 9\n",
      "--------------------------------------------------\n",
      "\n",
      "Actual image:\n",
      "\n"
     ]
    },
    {
     "data": {
      "image/png": "[encoded data removed]",
      "text/plain": [
       "<Figure size 432x288 with 1 Axes>"
      ]
     },
     "metadata": {
      "needs_background": "light"
     },
     "output_type": "display_data"
    },
    {
     "name": "stdout",
     "output_type": "stream",
     "text": [
      "\n",
      "Predicted value: 5\n",
      "--------------------------------------------------\n",
      "\n",
      "Actual image:\n",
      "\n"
     ]
    },
    {
     "data": {
      "image/png": "[encoded data removed]",
      "text/plain": [
       "<Figure size 432x288 with 1 Axes>"
      ]
     },
     "metadata": {
      "needs_background": "light"
     },
     "output_type": "display_data"
    },
    {
     "name": "stdout",
     "output_type": "stream",
     "text": [
      "\n",
      "Predicted value: 6\n",
      "--------------------------------------------------\n",
      "\n",
      "Actual image:\n",
      "\n"
     ]
    },
    {
     "data": {
      "image/png": "[encoded data removed]",
      "text/plain": [
       "<Figure size 432x288 with 1 Axes>"
      ]
     },
     "metadata": {
      "needs_background": "light"
     },
     "output_type": "display_data"
    },
    {
     "name": "stdout",
     "output_type": "stream",
     "text": [
      "\n",
      "Predicted value: 2\n",
      "--------------------------------------------------\n",
      "\n",
      "Actual image:\n",
      "\n"
     ]
    },
    {
     "data": {
      "image/png": "[encoded data removed]",
      "text/plain": [
       "<Figure size 432x288 with 1 Axes>"
      ]
     },
     "metadata": {
      "needs_background": "light"
     },
     "output_type": "display_data"
    },
    {
     "name": "stdout",
     "output_type": "stream",
     "text": [
      "\n",
      "Predicted value: 4\n",
      "--------------------------------------------------\n",
      "\n",
      "Actual image:\n",
      "\n"
     ]
    },
    {
     "data": {
      "image/png": "[encoded data removed]",
      "text/plain": [
       "<Figure size 432x288 with 1 Axes>"
      ]
     },
     "metadata": {
      "needs_background": "light"
     },
     "output_type": "display_data"
    },
    {
     "name": "stdout",
     "output_type": "stream",
     "text": [
      "\n",
      "Predicted value: 9\n",
      "--------------------------------------------------\n",
      "\n",
      "Actual image:\n",
      "\n"
     ]
    },
    {
     "data": {
      "image/png": "[encoded data removed]",
      "text/plain": [
       "<Figure size 432x288 with 1 Axes>"
      ]
     },
     "metadata": {
      "needs_background": "light"
     },
     "output_type": "display_data"
    },
    {
     "name": "stdout",
     "output_type": "stream",
     "text": [
      "\n",
      "Predicted value: 7\n",
      "--------------------------------------------------\n",
      "\n",
      "Actual image:\n",
      "\n"
     ]
    },
    {
     "data": {
      "image/png": "[encoded data removed]",
      "text/plain": [
       "<Figure size 432x288 with 1 Axes>"
      ]
     },
     "metadata": {
      "needs_background": "light"
     },
     "output_type": "display_data"
    },
    {
     "name": "stdout",
     "output_type": "stream",
     "text": [
      "\n",
      "Predicted value: 1\n",
      "--------------------------------------------------\n",
      "\n",
      "Actual image:\n",
      "\n"
     ]
    },
    {
     "data": {
      "image/png": "[encoded data removed]",
      "text/plain": [
       "<Figure size 432x288 with 1 Axes>"
      ]
     },
     "metadata": {
      "needs_background": "light"
     },
     "output_type": "display_data"
    },
    {
     "name": "stdout",
     "output_type": "stream",
     "text": [
      "\n",
      "Predicted value: 7\n",
      "--------------------------------------------------\n",
      "\n",
      "Actual image:\n",
      "\n"
     ]
    },
    {
     "data": {
      "image/png": "[encoded data removed]",
      "text/plain": [
       "<Figure size 432x288 with 1 Axes>"
      ]
     },
     "metadata": {
      "needs_background": "light"
     },
     "output_type": "display_data"
    },
    {
     "name": "stdout",
     "output_type": "stream",
     "text": [
      "\n",
      "Predicted value: 7\n",
      "--------------------------------------------------\n",
      "\n",
      "Actual image:\n",
      "\n"
     ]
    },
    {
     "data": {
      "image/png": "[encoded data removed]",
      "text/plain": [
       "<Figure size 432x288 with 1 Axes>"
      ]
     },
     "metadata": {
      "needs_background": "light"
     },
     "output_type": "display_data"
    },
    {
     "name": "stdout",
     "output_type": "stream",
     "text": [
      "\n",
      "Predicted value: 7\n",
      "--------------------------------------------------\n",
      "\n",
      "Actual image:\n",
      "\n"
     ]
    },
    {
     "data": {
      "image/png": "[encoded data removed]",
      "text/plain": [
       "<Figure size 432x288 with 1 Axes>"
      ]
     },
     "metadata": {
      "needs_background": "light"
     },
     "output_type": "display_data"
    },
    {
     "name": "stdout",
     "output_type": "stream",
     "text": [
      "\n",
      "Predicted value: 6\n",
      "--------------------------------------------------\n",
      "\n",
      "Actual image:\n",
      "\n"
     ]
    },
    {
     "data": {
      "image/png": "[encoded data removed]",
      "text/plain": [
       "<Figure size 432x288 with 1 Axes>"
      ]
     },
     "metadata": {
      "needs_background": "light"
     },
     "output_type": "display_data"
    },
    {
     "name": "stdout",
     "output_type": "stream",
     "text": [
      "\n",
      "Predicted value: 7\n",
      "--------------------------------------------------\n",
      "\n",
      "Actual image:\n",
      "\n"
     ]
    },
    {
     "data": {
      "image/png": "[encoded data removed]",
      "text/plain": [
       "<Figure size 432x288 with 1 Axes>"
      ]
     },
     "metadata": {
      "needs_background": "light"
     },
     "output_type": "display_data"
    },
    {
     "name": "stdout",
     "output_type": "stream",
     "text": [
      "\n",
      "Predicted value: 7\n",
      "--------------------------------------------------\n",
      "\n",
      "Actual image:\n",
      "\n"
     ]
    },
    {
     "data": {
      "image/png": "[encoded data removed]",
      "text/plain": [
       "<Figure size 432x288 with 1 Axes>"
      ]
     },
     "metadata": {
      "needs_background": "light"
     },
     "output_type": "display_data"
    },
    {
     "name": "stdout",
     "output_type": "stream",
     "text": [
      "\n",
      "Predicted value: 3\n",
      "--------------------------------------------------\n",
      "\n",
      "Actual image:\n",
      "\n"
     ]
    },
    {
     "data": {
      "image/png": "[encoded data removed]",
      "text/plain": [
       "<Figure size 432x288 with 1 Axes>"
      ]
     },
     "metadata": {
      "needs_background": "light"
     },
     "output_type": "display_data"
    },
    {
     "name": "stdout",
     "output_type": "stream",
     "text": [
      "\n",
      "Predicted value: 4\n",
      "--------------------------------------------------\n",
      "\n",
      "Actual image:\n",
      "\n"
     ]
    },
    {
     "data": {
      "image/png": "[encoded data removed]",
      "text/plain": [
       "<Figure size 432x288 with 1 Axes>"
      ]
     },
     "metadata": {
      "needs_background": "light"
     },
     "output_type": "display_data"
    },
    {
     "name": "stdout",
     "output_type": "stream",
     "text": [
      "\n",
      "Predicted value: 0\n",
      "--------------------------------------------------\n",
      "\n",
      "Actual image:\n",
      "\n"
     ]
    },
    {
     "data": {
      "image/png": "[encoded data removed]",
      "text/plain": [
       "<Figure size 432x288 with 1 Axes>"
      ]
     },
     "metadata": {
      "needs_background": "light"
     },
     "output_type": "display_data"
    },
    {
     "name": "stdout",
     "output_type": "stream",
     "text": [
      "\n",
      "Predicted value: 9\n",
      "--------------------------------------------------\n",
      "\n",
      "Actual image:\n",
      "\n"
     ]
    },
    {
     "data": {
      "image/png": "[encoded data removed]",
      "text/plain": [
       "<Figure size 432x288 with 1 Axes>"
      ]
     },
     "metadata": {
      "needs_background": "light"
     },
     "output_type": "display_data"
    },
    {
     "name": "stdout",
     "output_type": "stream",
     "text": [
      "\n",
      "Predicted value: 3\n",
      "--------------------------------------------------\n",
      "\n",
      "Actual image:\n",
      "\n"
     ]
    },
    {
     "data": {
      "image/png": "[encoded data removed]",
      "text/plain": [
       "<Figure size 432x288 with 1 Axes>"
      ]
     },
     "metadata": {
      "needs_background": "light"
     },
     "output_type": "display_data"
    },
    {
     "name": "stdout",
     "output_type": "stream",
     "text": [
      "\n",
      "Predicted value: 7\n",
      "--------------------------------------------------\n",
      "\n",
      "Actual image:\n",
      "\n"
     ]
    },
    {
     "data": {
      "image/png": "[encoded data removed]",
      "text/plain": [
       "<Figure size 432x288 with 1 Axes>"
      ]
     },
     "metadata": {
      "needs_background": "light"
     },
     "output_type": "display_data"
    },
    {
     "name": "stdout",
     "output_type": "stream",
     "text": [
      "\n",
      "Predicted value: 9\n",
      "--------------------------------------------------\n",
      "\n",
      "Actual image:\n",
      "\n"
     ]
    },
    {
     "data": {
      "image/png": "[encoded data removed]",
      "text/plain": [
       "<Figure size 432x288 with 1 Axes>"
      ]
     },
     "metadata": {
      "needs_background": "light"
     },
     "output_type": "display_data"
    },
    {
     "name": "stdout",
     "output_type": "stream",
     "text": [
      "\n",
      "Predicted value: 1\n",
      "--------------------------------------------------\n",
      "\n",
      "Actual image:\n",
      "\n"
     ]
    },
    {
     "data": {
      "image/png": "[encoded data removed]",
      "text/plain": [
       "<Figure size 432x288 with 1 Axes>"
      ]
     },
     "metadata": {
      "needs_background": "light"
     },
     "output_type": "display_data"
    },
    {
     "name": "stdout",
     "output_type": "stream",
     "text": [
      "\n",
      "Predicted value: 9\n",
      "--------------------------------------------------\n",
      "\n",
      "Actual image:\n",
      "\n"
     ]
    },
    {
     "data": {
      "image/png": "[encoded data removed]",
      "text/plain": [
       "<Figure size 432x288 with 1 Axes>"
      ]
     },
     "metadata": {
      "needs_background": "light"
     },
     "output_type": "display_data"
    },
    {
     "name": "stdout",
     "output_type": "stream",
     "text": [
      "\n",
      "Predicted value: 6\n",
      "--------------------------------------------------\n",
      "\n",
      "Actual image:\n",
      "\n"
     ]
    },
    {
     "data": {
      "image/png": "[encoded data removed]",
      "text/plain": [
       "<Figure size 432x288 with 1 Axes>"
      ]
     },
     "metadata": {
      "needs_background": "light"
     },
     "output_type": "display_data"
    },
    {
     "name": "stdout",
     "output_type": "stream",
     "text": [
      "\n",
      "Predicted value: 7\n",
      "--------------------------------------------------\n",
      "\n",
      "Actual image:\n",
      "\n"
     ]
    },
    {
     "data": {
      "image/png": "[encoded data removed]",
      "text/plain": [
       "<Figure size 432x288 with 1 Axes>"
      ]
     },
     "metadata": {
      "needs_background": "light"
     },
     "output_type": "display_data"
    },
    {
     "name": "stdout",
     "output_type": "stream",
     "text": [
      "\n",
      "Predicted value: 4\n",
      "--------------------------------------------------\n",
      "\n",
      "Actual image:\n",
      "\n"
     ]
    },
    {
     "data": {
      "image/png": "[encoded data removed]",
      "text/plain": [
       "<Figure size 432x288 with 1 Axes>"
      ]
     },
     "metadata": {
      "needs_background": "light"
     },
     "output_type": "display_data"
    },
    {
     "name": "stdout",
     "output_type": "stream",
     "text": [
      "\n",
      "Predicted value: 0\n",
      "--------------------------------------------------\n",
      "\n",
      "Actual image:\n",
      "\n"
     ]
    },
    {
     "data": {
      "image/png": "[encoded data removed]",
      "text/plain": [
       "<Figure size 432x288 with 1 Axes>"
      ]
     },
     "metadata": {
      "needs_background": "light"
     },
     "output_type": "display_data"
    },
    {
     "name": "stdout",
     "output_type": "stream",
     "text": [
      "\n",
      "Predicted value: 3\n",
      "--------------------------------------------------\n",
      "\n",
      "Actual image:\n",
      "\n"
     ]
    },
    {
     "data": {
      "image/png": "[encoded data removed]",
      "text/plain": [
       "<Figure size 432x288 with 1 Axes>"
      ]
     },
     "metadata": {
      "needs_background": "light"
     },
     "output_type": "display_data"
    },
    {
     "name": "stdout",
     "output_type": "stream",
     "text": [
      "\n",
      "Predicted value: 7\n",
      "--------------------------------------------------\n",
      "\n",
      "Actual image:\n",
      "\n"
     ]
    },
    {
     "data": {
      "image/png": "[encoded data removed]",
      "text/plain": [
       "<Figure size 432x288 with 1 Axes>"
      ]
     },
     "metadata": {
      "needs_background": "light"
     },
     "output_type": "display_data"
    },
    {
     "name": "stdout",
     "output_type": "stream",
     "text": [
      "\n",
      "Predicted value: 3\n",
      "--------------------------------------------------\n",
      "\n",
      "Actual image:\n",
      "\n"
     ]
    },
    {
     "data": {
      "image/png": "[encoded data removed]",
      "text/plain": [
       "<Figure size 432x288 with 1 Axes>"
      ]
     },
     "metadata": {
      "needs_background": "light"
     },
     "output_type": "display_data"
    },
    {
     "name": "stdout",
     "output_type": "stream",
     "text": [
      "\n",
      "Predicted value: 1\n",
      "--------------------------------------------------\n",
      "\n",
      "Actual image:\n",
      "\n"
     ]
    },
    {
     "data": {
      "image/png": "[encoded data removed]",
      "text/plain": [
       "<Figure size 432x288 with 1 Axes>"
      ]
     },
     "metadata": {
      "needs_background": "light"
     },
     "output_type": "display_data"
    },
    {
     "name": "stdout",
     "output_type": "stream",
     "text": [
      "\n",
      "Predicted value: 2\n",
      "--------------------------------------------------\n",
      "\n",
      "Actual image:\n",
      "\n"
     ]
    },
    {
     "data": {
      "image/png": "[encoded data removed]",
      "text/plain": [
       "<Figure size 432x288 with 1 Axes>"
      ]
     },
     "metadata": {
      "needs_background": "light"
     },
     "output_type": "display_data"
    },
    {
     "name": "stdout",
     "output_type": "stream",
     "text": [
      "\n",
      "Predicted value: 5\n",
      "--------------------------------------------------\n",
      "\n",
      "Actual image:\n",
      "\n"
     ]
    },
    {
     "data": {
      "image/png": "[encoded data removed]",
      "text/plain": [
       "<Figure size 432x288 with 1 Axes>"
      ]
     },
     "metadata": {
      "needs_background": "light"
     },
     "output_type": "display_data"
    },
    {
     "name": "stdout",
     "output_type": "stream",
     "text": [
      "\n",
      "Predicted value: 4\n",
      "--------------------------------------------------\n",
      "\n",
      "Actual image:\n",
      "\n"
     ]
    },
    {
     "data": {
      "image/png": "[encoded data removed]",
      "text/plain": [
       "<Figure size 432x288 with 1 Axes>"
      ]
     },
     "metadata": {
      "needs_background": "light"
     },
     "output_type": "display_data"
    },
    {
     "name": "stdout",
     "output_type": "stream",
     "text": [
      "\n",
      "Predicted value: 0\n",
      "--------------------------------------------------\n",
      "\n",
      "Actual image:\n",
      "\n"
     ]
    },
    {
     "data": {
      "image/png": "[encoded data removed]",
      "text/plain": [
       "<Figure size 432x288 with 1 Axes>"
      ]
     },
     "metadata": {
      "needs_background": "light"
     },
     "output_type": "display_data"
    },
    {
     "name": "stdout",
     "output_type": "stream",
     "text": [
      "\n",
      "Predicted value: 7\n",
      "--------------------------------------------------\n",
      "\n",
      "Actual image:\n",
      "\n"
     ]
    },
    {
     "data": {
      "image/png": "[encoded data removed]",
      "text/plain": [
       "<Figure size 432x288 with 1 Axes>"
      ]
     },
     "metadata": {
      "needs_background": "light"
     },
     "output_type": "display_data"
    },
    {
     "name": "stdout",
     "output_type": "stream",
     "text": [
      "\n",
      "Predicted value: 0\n",
      "--------------------------------------------------\n",
      "\n",
      "Actual image:\n",
      "\n"
     ]
    },
    {
     "data": {
      "image/png": "[encoded data removed]",
      "text/plain": [
       "<Figure size 432x288 with 1 Axes>"
      ]
     },
     "metadata": {
      "needs_background": "light"
     },
     "output_type": "display_data"
    },
    {
     "name": "stdout",
     "output_type": "stream",
     "text": [
      "\n",
      "Predicted value: 4\n",
      "--------------------------------------------------\n",
      "\n",
      "Actual image:\n",
      "\n"
     ]
    },
    {
     "data": {
      "image/png": "[encoded data removed]",
      "text/plain": [
       "<Figure size 432x288 with 1 Axes>"
      ]
     },
     "metadata": {
      "needs_background": "light"
     },
     "output_type": "display_data"
    },
    {
     "name": "stdout",
     "output_type": "stream",
     "text": [
      "\n",
      "Predicted value: 8\n",
      "--------------------------------------------------\n",
      "\n",
      "Actual image:\n",
      "\n"
     ]
    },
    {
     "data": {
      "image/png": "[encoded data removed]",
      "text/plain": [
       "<Figure size 432x288 with 1 Axes>"
      ]
     },
     "metadata": {
      "needs_background": "light"
     },
     "output_type": "display_data"
    },
    {
     "name": "stdout",
     "output_type": "stream",
     "text": [
      "\n",
      "Predicted value: 6\n",
      "--------------------------------------------------\n",
      "\n",
      "Actual image:\n",
      "\n"
     ]
    },
    {
     "data": {
      "image/png": "[encoded data removed]",
      "text/plain": [
       "<Figure size 432x288 with 1 Axes>"
      ]
     },
     "metadata": {
      "needs_background": "light"
     },
     "output_type": "display_data"
    },
    {
     "name": "stdout",
     "output_type": "stream",
     "text": [
      "\n",
      "Predicted value: 7\n",
      "--------------------------------------------------\n",
      "\n",
      "Actual image:\n",
      "\n"
     ]
    },
    {
     "data": {
      "image/png": "[encoded data removed]",
      "text/plain": [
       "<Figure size 432x288 with 1 Axes>"
      ]
     },
     "metadata": {
      "needs_background": "light"
     },
     "output_type": "display_data"
    },
    {
     "name": "stdout",
     "output_type": "stream",
     "text": [
      "\n",
      "Predicted value: 8\n",
      "--------------------------------------------------\n",
      "\n",
      "Actual image:\n",
      "\n"
     ]
    },
    {
     "data": {
      "image/png": "[encoded data removed]",
      "text/plain": [
       "<Figure size 432x288 with 1 Axes>"
      ]
     },
     "metadata": {
      "needs_background": "light"
     },
     "output_type": "display_data"
    },
    {
     "name": "stdout",
     "output_type": "stream",
     "text": [
      "\n",
      "Predicted value: 7\n",
      "--------------------------------------------------\n",
      "\n",
      "Actual image:\n",
      "\n"
     ]
    },
    {
     "data": {
      "image/png": "[encoded data removed]",
      "text/plain": [
       "<Figure size 432x288 with 1 Axes>"
      ]
     },
     "metadata": {
      "needs_background": "light"
     },
     "output_type": "display_data"
    },
    {
     "name": "stdout",
     "output_type": "stream",
     "text": [
      "\n",
      "Predicted value: 7\n",
      "--------------------------------------------------\n",
      "\n",
      "Actual image:\n",
      "\n"
     ]
    },
    {
     "data": {
      "image/png": "[encoded data removed]",
      "text/plain": [
       "<Figure size 432x288 with 1 Axes>"
      ]
     },
     "metadata": {
      "needs_background": "light"
     },
     "output_type": "display_data"
    },
    {
     "name": "stdout",
     "output_type": "stream",
     "text": [
      "\n",
      "Predicted value: 2\n",
      "--------------------------------------------------\n",
      "\n",
      "Actual image:\n",
      "\n"
     ]
    },
    {
     "data": {
      "image/png": "[encoded data removed]",
      "text/plain": [
       "<Figure size 432x288 with 1 Axes>"
      ]
     },
     "metadata": {
      "needs_background": "light"
     },
     "output_type": "display_data"
    },
    {
     "name": "stdout",
     "output_type": "stream",
     "text": [
      "\n",
      "Predicted value: 8\n",
      "--------------------------------------------------\n",
      "\n",
      "Actual image:\n",
      "\n"
     ]
    },
    {
     "data": {
      "image/png": "[encoded data removed]",
      "text/plain": [
       "<Figure size 432x288 with 1 Axes>"
      ]
     },
     "metadata": {
      "needs_background": "light"
     },
     "output_type": "display_data"
    },
    {
     "name": "stdout",
     "output_type": "stream",
     "text": [
      "\n",
      "Predicted value: 9\n",
      "--------------------------------------------------\n",
      "\n",
      "Actual image:\n",
      "\n"
     ]
    },
    {
     "data": {
      "image/png": "[encoded data removed]",
      "text/plain": [
       "<Figure size 432x288 with 1 Axes>"
      ]
     },
     "metadata": {
      "needs_background": "light"
     },
     "output_type": "display_data"
    },
    {
     "name": "stdout",
     "output_type": "stream",
     "text": [
      "\n",
      "Predicted value: 5\n",
      "--------------------------------------------------\n",
      "\n",
      "Actual image:\n",
      "\n"
     ]
    },
    {
     "data": {
      "image/png": "[encoded data removed]",
      "text/plain": [
       "<Figure size 432x288 with 1 Axes>"
      ]
     },
     "metadata": {
      "needs_background": "light"
     },
     "output_type": "display_data"
    },
    {
     "name": "stdout",
     "output_type": "stream",
     "text": [
      "\n",
      "Predicted value: 2\n",
      "--------------------------------------------------\n",
      "\n",
      "Actual image:\n",
      "\n"
     ]
    },
    {
     "data": {
      "image/png": "[encoded data removed]",
      "text/plain": [
       "<Figure size 432x288 with 1 Axes>"
      ]
     },
     "metadata": {
      "needs_background": "light"
     },
     "output_type": "display_data"
    },
    {
     "name": "stdout",
     "output_type": "stream",
     "text": [
      "\n",
      "Predicted value: 7\n",
      "--------------------------------------------------\n",
      "\n",
      "Actual image:\n",
      "\n"
     ]
    },
    {
     "data": {
      "image/png": "[encoded data removed]",
      "text/plain": [
       "<Figure size 432x288 with 1 Axes>"
      ]
     },
     "metadata": {
      "needs_background": "light"
     },
     "output_type": "display_data"
    },
    {
     "name": "stdout",
     "output_type": "stream",
     "text": [
      "\n",
      "Predicted value: 3\n",
      "--------------------------------------------------\n",
      "\n",
      "Actual image:\n",
      "\n"
     ]
    },
    {
     "data": {
      "image/png": "[encoded data removed]",
      "text/plain": [
       "<Figure size 432x288 with 1 Axes>"
      ]
     },
     "metadata": {
      "needs_background": "light"
     },
     "output_type": "display_data"
    },
    {
     "name": "stdout",
     "output_type": "stream",
     "text": [
      "\n",
      "Predicted value: 8\n",
      "--------------------------------------------------\n",
      "\n",
      "Actual image:\n",
      "\n"
     ]
    },
    {
     "data": {
      "image/png": "[encoded data removed]",
      "text/plain": [
       "<Figure size 432x288 with 1 Axes>"
      ]
     },
     "metadata": {
      "needs_background": "light"
     },
     "output_type": "display_data"
    },
    {
     "name": "stdout",
     "output_type": "stream",
     "text": [
      "\n",
      "Predicted value: 5\n",
      "--------------------------------------------------\n",
      "\n",
      "Actual image:\n",
      "\n"
     ]
    },
    {
     "data": {
      "image/png": "[encoded data removed]",
      "text/plain": [
       "<Figure size 432x288 with 1 Axes>"
      ]
     },
     "metadata": {
      "needs_background": "light"
     },
     "output_type": "display_data"
    },
    {
     "name": "stdout",
     "output_type": "stream",
     "text": [
      "\n",
      "Predicted value: 5\n",
      "--------------------------------------------------\n",
      "\n",
      "Actual image:\n",
      "\n"
     ]
    },
    {
     "data": {
      "image/png": "[encoded data removed]",
      "text/plain": [
       "<Figure size 432x288 with 1 Axes>"
      ]
     },
     "metadata": {
      "needs_background": "light"
     },
     "output_type": "display_data"
    },
    {
     "name": "stdout",
     "output_type": "stream",
     "text": [
      "\n",
      "Predicted value: 7\n",
      "--------------------------------------------------\n",
      "\n",
      "Actual image:\n",
      "\n"
     ]
    },
    {
     "data": {
      "image/png": "[encoded data removed]",
      "text/plain": [
       "<Figure size 432x288 with 1 Axes>"
      ]
     },
     "metadata": {
      "needs_background": "light"
     },
     "output_type": "display_data"
    },
    {
     "name": "stdout",
     "output_type": "stream",
     "text": [
      "\n",
      "Predicted value: 1\n",
      "--------------------------------------------------\n",
      "\n",
      "Actual image:\n",
      "\n"
     ]
    },
    {
     "data": {
      "image/png": "[encoded data removed]",
      "text/plain": [
       "<Figure size 432x288 with 1 Axes>"
      ]
     },
     "metadata": {
      "needs_background": "light"
     },
     "output_type": "display_data"
    },
    {
     "name": "stdout",
     "output_type": "stream",
     "text": [
      "\n",
      "Predicted value: 7\n",
      "--------------------------------------------------\n",
      "\n",
      "Actual image:\n",
      "\n"
     ]
    },
    {
     "data": {
      "image/png": "[encoded data removed]",
      "text/plain": [
       "<Figure size 432x288 with 1 Axes>"
      ]
     },
     "metadata": {
      "needs_background": "light"
     },
     "output_type": "display_data"
    },
    {
     "name": "stdout",
     "output_type": "stream",
     "text": [
      "\n",
      "Predicted value: 1\n",
      "--------------------------------------------------\n",
      "\n",
      "Actual image:\n",
      "\n"
     ]
    },
    {
     "data": {
      "image/png": "[encoded data removed]",
      "text/plain": [
       "<Figure size 432x288 with 1 Axes>"
      ]
     },
     "metadata": {
      "needs_background": "light"
     },
     "output_type": "display_data"
    },
    {
     "name": "stdout",
     "output_type": "stream",
     "text": [
      "\n",
      "Predicted value: 6\n",
      "--------------------------------------------------\n",
      "\n",
      "Actual image:\n",
      "\n"
     ]
    },
    {
     "data": {
      "image/png": "[encoded data removed]",
      "text/plain": [
       "<Figure size 432x288 with 1 Axes>"
      ]
     },
     "metadata": {
      "needs_background": "light"
     },
     "output_type": "display_data"
    },
    {
     "name": "stdout",
     "output_type": "stream",
     "text": [
      "\n",
      "Predicted value: 5\n",
      "--------------------------------------------------\n",
      "\n",
      "Actual image:\n",
      "\n"
     ]
    },
    {
     "data": {
      "image/png": "[encoded data removed]",
      "text/plain": [
       "<Figure size 432x288 with 1 Axes>"
      ]
     },
     "metadata": {
      "needs_background": "light"
     },
     "output_type": "display_data"
    },
    {
     "name": "stdout",
     "output_type": "stream",
     "text": [
      "\n",
      "Predicted value: 2\n",
      "--------------------------------------------------\n",
      "\n",
      "Actual image:\n",
      "\n"
     ]
    },
    {
     "data": {
      "image/png": "[encoded data removed]",
      "text/plain": [
       "<Figure size 432x288 with 1 Axes>"
      ]
     },
     "metadata": {
      "needs_background": "light"
     },
     "output_type": "display_data"
    },
    {
     "name": "stdout",
     "output_type": "stream",
     "text": [
      "\n",
      "Predicted value: 9\n",
      "--------------------------------------------------\n",
      "\n",
      "Actual image:\n",
      "\n"
     ]
    },
    {
     "data": {
      "image/png": "[encoded data removed]",
      "text/plain": [
       "<Figure size 432x288 with 1 Axes>"
      ]
     },
     "metadata": {
      "needs_background": "light"
     },
     "output_type": "display_data"
    },
    {
     "name": "stdout",
     "output_type": "stream",
     "text": [
      "\n",
      "Predicted value: 2\n",
      "--------------------------------------------------\n",
      "\n",
      "Actual image:\n",
      "\n"
     ]
    },
    {
     "data": {
      "image/png": "[encoded data removed]",
      "text/plain": [
       "<Figure size 432x288 with 1 Axes>"
      ]
     },
     "metadata": {
      "needs_background": "light"
     },
     "output_type": "display_data"
    },
    {
     "name": "stdout",
     "output_type": "stream",
     "text": [
      "\n",
      "Predicted value: 1\n",
      "--------------------------------------------------\n",
      "\n",
      "Actual image:\n",
      "\n"
     ]
    },
    {
     "data": {
      "image/png": "[encoded data removed]",
      "text/plain": [
       "<Figure size 432x288 with 1 Axes>"
      ]
     },
     "metadata": {
      "needs_background": "light"
     },
     "output_type": "display_data"
    },
    {
     "name": "stdout",
     "output_type": "stream",
     "text": [
      "\n",
      "Predicted value: 7\n",
      "--------------------------------------------------\n",
      "\n",
      "Actual image:\n",
      "\n"
     ]
    },
    {
     "data": {
      "image/png": "[encoded data removed]",
      "text/plain": [
       "<Figure size 432x288 with 1 Axes>"
      ]
     },
     "metadata": {
      "needs_background": "light"
     },
     "output_type": "display_data"
    },
    {
     "name": "stdout",
     "output_type": "stream",
     "text": [
      "\n",
      "Predicted value: 7\n",
      "--------------------------------------------------\n",
      "\n",
      "Actual image:\n",
      "\n"
     ]
    },
    {
     "data": {
      "image/png": "[encoded data removed]",
      "text/plain": [
       "<Figure size 432x288 with 1 Axes>"
      ]
     },
     "metadata": {
      "needs_background": "light"
     },
     "output_type": "display_data"
    },
    {
     "name": "stdout",
     "output_type": "stream",
     "text": [
      "\n",
      "Predicted value: 7\n",
      "--------------------------------------------------\n",
      "\n",
      "Actual image:\n",
      "\n"
     ]
    },
    {
     "data": {
      "image/png": "[encoded data removed]",
      "text/plain": [
       "<Figure size 432x288 with 1 Axes>"
      ]
     },
     "metadata": {
      "needs_background": "light"
     },
     "output_type": "display_data"
    },
    {
     "name": "stdout",
     "output_type": "stream",
     "text": [
      "\n",
      "Predicted value: 2\n",
      "--------------------------------------------------\n",
      "\n",
      "Actual image:\n",
      "\n"
     ]
    },
    {
     "data": {
      "image/png": "[encoded data removed]",
      "text/plain": [
       "<Figure size 432x288 with 1 Axes>"
      ]
     },
     "metadata": {
      "needs_background": "light"
     },
     "output_type": "display_data"
    },
    {
     "name": "stdout",
     "output_type": "stream",
     "text": [
      "\n",
      "Predicted value: 7\n",
      "--------------------------------------------------\n",
      "\n",
      "Actual image:\n",
      "\n"
     ]
    },
    {
     "data": {
      "image/png": "[encoded data removed]",
      "text/plain": [
       "<Figure size 432x288 with 1 Axes>"
      ]
     },
     "metadata": {
      "needs_background": "light"
     },
     "output_type": "display_data"
    },
    {
     "name": "stdout",
     "output_type": "stream",
     "text": [
      "\n",
      "Predicted value: 6\n",
      "--------------------------------------------------\n",
      "\n",
      "Actual image:\n",
      "\n"
     ]
    },
    {
     "data": {
      "image/png": "[encoded data removed]",
      "text/plain": [
       "<Figure size 432x288 with 1 Axes>"
      ]
     },
     "metadata": {
      "needs_background": "light"
     },
     "output_type": "display_data"
    },
    {
     "name": "stdout",
     "output_type": "stream",
     "text": [
      "\n",
      "Predicted value: 9\n",
      "--------------------------------------------------\n",
      "\n",
      "Actual image:\n",
      "\n"
     ]
    },
    {
     "data": {
      "image/png": "[encoded data removed]",
      "text/plain": [
       "<Figure size 432x288 with 1 Axes>"
      ]
     },
     "metadata": {
      "needs_background": "light"
     },
     "output_type": "display_data"
    },
    {
     "name": "stdout",
     "output_type": "stream",
     "text": [
      "\n",
      "Predicted value: 7\n",
      "--------------------------------------------------\n",
      "\n",
      "Actual image:\n",
      "\n"
     ]
    },
    {
     "data": {
      "image/png": "[encoded data removed]",
      "text/plain": [
       "<Figure size 432x288 with 1 Axes>"
      ]
     },
     "metadata": {
      "needs_background": "light"
     },
     "output_type": "display_data"
    },
    {
     "name": "stdout",
     "output_type": "stream",
     "text": [
      "\n",
      "Predicted value: 9\n",
      "--------------------------------------------------\n"
     ]
    }
   ],
   "source": [
    "for i in incorrect:\n",
    "    print('\\nActual image:\\n')\n",
    "    plt.imshow(x_test_copy[i,:,:], cmap = 'gray');\n",
    "    plt.show();\n",
    "\n",
    "    print('\\nPredicted value:', pred[i].argmax())\n",
    "    print('-'*50)"
   ]
  }
 ],
 "metadata": {
  "colab": {
   "collapsed_sections": [],
   "name": "Optimization II HW 1.ipynb",
   "provenance": []
  },
  "kernelspec": {
   "display_name": "Python 3",
   "language": "python",
   "name": "python3"
  },
  "language_info": {
   "codemirror_mode": {
    "name": "ipython",
    "version": 3
   },
   "file_extension": ".py",
   "mimetype": "text/x-python",
   "name": "python",
   "nbconvert_exporter": "python",
   "pygments_lexer": "ipython3",
   "version": "3.8.8"
  }
 },
 "nbformat": 4,
 "nbformat_minor": 1
}
